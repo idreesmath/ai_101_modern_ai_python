{
  "nbformat": 4,
  "nbformat_minor": 0,
  "metadata": {
    "colab": {
      "provenance": [],
      "authorship_tag": "ABX9TyPFXNm/UY4QMAnZ/IUhqUaS",
      "include_colab_link": true
    },
    "kernelspec": {
      "name": "python3",
      "display_name": "Python 3"
    },
    "language_info": {
      "name": "python"
    }
  },
  "cells": [
    {
      "cell_type": "markdown",
      "metadata": {
        "id": "view-in-github",
        "colab_type": "text"
      },
      "source": [
        "<a href=\"https://colab.research.google.com/github/idreesmath/ai_101_modern_ai_python/blob/main/class_01.ipynb\" target=\"_parent\"><img src=\"https://colab.research.google.com/assets/colab-badge.svg\" alt=\"Open In Colab\"/></a>"
      ]
    },
    {
      "cell_type": "code",
      "execution_count": null,
      "metadata": {
        "colab": {
          "base_uri": "https://localhost:8080/"
        },
        "id": "c5AroMO6n0d2",
        "outputId": "beda1520-7e28-4d3b-c17f-3610d83160e0"
      },
      "outputs": [
        {
          "output_type": "stream",
          "name": "stdout",
          "text": [
            "Pakistan Zindabad\n"
          ]
        }
      ],
      "source": [
        "print(\"Pakistan Zindabad\")"
      ]
    },
    {
      "cell_type": "markdown",
      "source": [
        "## Data Types"
      ],
      "metadata": {
        "id": "TIO7bfZKs35Q"
      }
    },
    {
      "cell_type": "code",
      "source": [
        "print(\"Hello World!\")"
      ],
      "metadata": {
        "colab": {
          "base_uri": "https://localhost:8080/"
        },
        "id": "cDrYnsvpssJ6",
        "outputId": "13613f9a-13b8-4a42-8da3-2727d7721836"
      },
      "execution_count": null,
      "outputs": [
        {
          "output_type": "stream",
          "name": "stdout",
          "text": [
            "Hello World!\n"
          ]
        }
      ]
    },
    {
      "cell_type": "code",
      "source": [
        "type(\"Pakistan Zindabad\")"
      ],
      "metadata": {
        "colab": {
          "base_uri": "https://localhost:8080/"
        },
        "id": "xbpLOwtXtGTe",
        "outputId": "380e4be3-6add-4cf5-9ef1-749a7e51fab6"
      },
      "execution_count": null,
      "outputs": [
        {
          "output_type": "execute_result",
          "data": {
            "text/plain": [
              "str"
            ]
          },
          "metadata": {},
          "execution_count": 4
        }
      ]
    },
    {
      "cell_type": "code",
      "source": [
        "print(type(\"Pakistan Zindabad\"))"
      ],
      "metadata": {
        "colab": {
          "base_uri": "https://localhost:8080/"
        },
        "id": "i5GFE6bkt4Qp",
        "outputId": "8f7ee023-7240-43b3-dc10-0d12290ce84d"
      },
      "execution_count": null,
      "outputs": [
        {
          "output_type": "stream",
          "name": "stdout",
          "text": [
            "<class 'str'>\n"
          ]
        }
      ]
    },
    {
      "cell_type": "code",
      "source": [
        "print(type(1000))"
      ],
      "metadata": {
        "colab": {
          "base_uri": "https://localhost:8080/"
        },
        "id": "AbyXP9ENt_n-",
        "outputId": "507cc4c3-b35b-4a35-fda9-4b46cc25e6ba"
      },
      "execution_count": null,
      "outputs": [
        {
          "output_type": "stream",
          "name": "stdout",
          "text": [
            "<class 'int'>\n"
          ]
        }
      ]
    },
    {
      "cell_type": "code",
      "source": [
        "print(type('Pakistan Zindabad'))"
      ],
      "metadata": {
        "colab": {
          "base_uri": "https://localhost:8080/"
        },
        "id": "ANHeA5gGuP4Y",
        "outputId": "82957e1a-b5d5-4eda-a556-8864fc9d5000"
      },
      "execution_count": null,
      "outputs": [
        {
          "output_type": "stream",
          "name": "stdout",
          "text": [
            "<class 'str'>\n"
          ]
        }
      ]
    },
    {
      "cell_type": "code",
      "source": [
        "\"pAkIsTan ZiNdaBad\".capitalize()"
      ],
      "metadata": {
        "colab": {
          "base_uri": "https://localhost:8080/",
          "height": 36
        },
        "id": "v8B04KaauluV",
        "outputId": "074f884b-090f-4fcc-e191-dfa9d6867ec3"
      },
      "execution_count": null,
      "outputs": [
        {
          "output_type": "execute_result",
          "data": {
            "text/plain": [
              "'Pakistan zindabad'"
            ],
            "application/vnd.google.colaboratory.intrinsic+json": {
              "type": "string"
            }
          },
          "metadata": {},
          "execution_count": 9
        }
      ]
    },
    {
      "cell_type": "code",
      "source": [
        "print(type(True))"
      ],
      "metadata": {
        "colab": {
          "base_uri": "https://localhost:8080/"
        },
        "id": "86V4rqvNvMXC",
        "outputId": "68b54102-d927-4992-c0e8-b432cab0c7fb"
      },
      "execution_count": null,
      "outputs": [
        {
          "output_type": "stream",
          "name": "stdout",
          "text": [
            "<class 'bool'>\n"
          ]
        }
      ]
    },
    {
      "cell_type": "code",
      "source": [
        "print(type(False))"
      ],
      "metadata": {
        "colab": {
          "base_uri": "https://localhost:8080/"
        },
        "id": "TD2OgcifyzIL",
        "outputId": "e63df095-ceb9-4b67-acc0-13dc3b4fb5cf"
      },
      "execution_count": null,
      "outputs": [
        {
          "output_type": "stream",
          "name": "stdout",
          "text": [
            "<class 'bool'>\n"
          ]
        }
      ]
    },
    {
      "cell_type": "code",
      "source": [
        "print(type({1,2,4,2,3,5,6}))"
      ],
      "metadata": {
        "colab": {
          "base_uri": "https://localhost:8080/"
        },
        "id": "8D8H0LqYy23N",
        "outputId": "461c8816-9dd8-4234-bd58-e7ca764a8519"
      },
      "execution_count": null,
      "outputs": [
        {
          "output_type": "stream",
          "name": "stdout",
          "text": [
            "<class 'set'>\n"
          ]
        }
      ]
    },
    {
      "cell_type": "code",
      "source": [
        "print(type([1,2,3,4,5]))"
      ],
      "metadata": {
        "colab": {
          "base_uri": "https://localhost:8080/"
        },
        "id": "WmQfpyZdy7i6",
        "outputId": "9c901d66-0647-4456-b7f7-d74007ab3b5d"
      },
      "execution_count": null,
      "outputs": [
        {
          "output_type": "stream",
          "name": "stdout",
          "text": [
            "<class 'list'>\n"
          ]
        }
      ]
    },
    {
      "cell_type": "code",
      "source": [
        "print(type({\"name\":\"Zainab\"}))"
      ],
      "metadata": {
        "colab": {
          "base_uri": "https://localhost:8080/"
        },
        "id": "mlzZ6orMzB6f",
        "outputId": "4b144d01-5d0a-4e50-a0aa-2e91a293ad39"
      },
      "execution_count": null,
      "outputs": [
        {
          "output_type": "stream",
          "name": "stdout",
          "text": [
            "<class 'dict'>\n"
          ]
        }
      ]
    },
    {
      "cell_type": "code",
      "source": [
        "print(type((1,2,3,4,5)))"
      ],
      "metadata": {
        "colab": {
          "base_uri": "https://localhost:8080/"
        },
        "id": "rXuqfiFJzW4N",
        "outputId": "27599f36-09c4-4cc0-dff6-5c2412834d0a"
      },
      "execution_count": null,
      "outputs": [
        {
          "output_type": "stream",
          "name": "stdout",
          "text": [
            "<class 'tuple'>\n"
          ]
        }
      ]
    },
    {
      "cell_type": "markdown",
      "source": [
        "## Variable\n",
        "variable components\n",
        "1. name\n",
        "2. operator (Assign Operator)\n",
        "3. value (object -> str, int, tuple, set)\n",
        "\n",
        "```python\n",
        "variable_name = \"value\"\n",
        "```\n",
        "\n",
        "now working with type hint\n",
        "\n",
        "```python\n",
        "variable_name : type  = \"value\"\n",
        "```"
      ],
      "metadata": {
        "id": "dJCoJcBEzSfS"
      }
    },
    {
      "cell_type": "code",
      "source": [
        "student_name : str = \"Muhammad Idrees\"\n",
        "print(student_name)"
      ],
      "metadata": {
        "colab": {
          "base_uri": "https://localhost:8080/"
        },
        "id": "HL23iuwTzNeO",
        "outputId": "77ddcc43-ccc1-4151-a93a-63dba8df7d17"
      },
      "execution_count": null,
      "outputs": [
        {
          "output_type": "stream",
          "name": "stdout",
          "text": [
            "Muhammad Idrees\n"
          ]
        }
      ]
    },
    {
      "cell_type": "code",
      "source": [
        "faculty_name : str = \"Zia Khan\"\n",
        "print(faculty_name)"
      ],
      "metadata": {
        "colab": {
          "base_uri": "https://localhost:8080/"
        },
        "id": "xxEevPnB1v8j",
        "outputId": "4622daeb-6a84-41fc-a111-ff3c458d36d1"
      },
      "execution_count": null,
      "outputs": [
        {
          "output_type": "stream",
          "name": "stdout",
          "text": [
            "Zia Khan\n"
          ]
        }
      ]
    },
    {
      "cell_type": "code",
      "source": [
        "name : str = \"Muhammad Idrees\"\n",
        "father_name : str = \"Muhammad Saleem\"\n",
        "age : int = 47\n",
        "contact : int = \"03218040866\"\n",
        "email : str = \"idrees488@gmail.com\"\n",
        "is_pakistan : bool = True\n",
        "\n",
        "print(name)\n",
        "print(father_name)\n",
        "print(age)\n",
        "print(contact)\n",
        "print(email)\n",
        "print(is_pakistan)"
      ],
      "metadata": {
        "colab": {
          "base_uri": "https://localhost:8080/"
        },
        "id": "NSdjGPjo1wAm",
        "outputId": "bc478e2f-57b6-4ec9-bd94-39f252bcf72e"
      },
      "execution_count": null,
      "outputs": [
        {
          "output_type": "stream",
          "name": "stdout",
          "text": [
            "Muhammad Idrees\n",
            "Muhammad Saleem\n",
            "47\n",
            "03218040866\n",
            "idrees488@gmail.com\n",
            "True\n"
          ]
        }
      ]
    },
    {
      "cell_type": "code",
      "source": [
        "names : list = [\"Qasim\", \"Zia\", \"Rehan\"]\n",
        "print(names)"
      ],
      "metadata": {
        "colab": {
          "base_uri": "https://localhost:8080/"
        },
        "id": "-SdFbXcK1wEB",
        "outputId": "8d7d5803-1b49-4c9c-ea06-78ef0863d57b"
      },
      "execution_count": null,
      "outputs": [
        {
          "output_type": "stream",
          "name": "stdout",
          "text": [
            "['Qasim', 'Zia', 'Rehan']\n"
          ]
        }
      ]
    },
    {
      "cell_type": "code",
      "source": [
        "name : str = 1000\n",
        "\n",
        "print(name)"
      ],
      "metadata": {
        "colab": {
          "base_uri": "https://localhost:8080/"
        },
        "id": "yWC7To0R7IIo",
        "outputId": "9af5924c-cbc2-4862-d3e3-b32013702125"
      },
      "execution_count": null,
      "outputs": [
        {
          "output_type": "stream",
          "name": "stdout",
          "text": [
            "1000\n"
          ]
        }
      ]
    },
    {
      "cell_type": "markdown",
      "source": [
        "## String Concatenation"
      ],
      "metadata": {
        "id": "MwdpfU6L-UAe"
      }
    },
    {
      "cell_type": "code",
      "source": [
        "name : str = \"Muhammad Idrees\"\n",
        "father_name : str = \"Muhammad Saleem\"\n",
        "age : int = 47\n",
        "\n",
        "student_card : str = \"Panaversity Student Card\\n\\nStudent Name: \" + name + \"\\nFather's Name: \" + father_name + \"\\nAge: \" + str(age)\n",
        "\n",
        "print(student_card)"
      ],
      "metadata": {
        "colab": {
          "base_uri": "https://localhost:8080/"
        },
        "id": "WSQF0Wzv8Or4",
        "outputId": "6d5fdb69-a77b-4d02-fdbc-532667f585c2"
      },
      "execution_count": null,
      "outputs": [
        {
          "output_type": "stream",
          "name": "stdout",
          "text": [
            "Panaversity Student Card\n",
            "\n",
            "Student Name: Muhammad Idrees\n",
            "Father's Name: Muhammad Saleem\n",
            "Age: 47\n"
          ]
        }
      ]
    },
    {
      "cell_type": "code",
      "source": [
        "name : str = \"Muhammad Idrees\"\n",
        "father_name : str = \"Muhammad Saleem\"\n",
        "age : int = 47\n",
        "\n",
        "student_card : str = \"\"\"\n",
        "Panaveristy Student Card\n",
        "\n",
        "Student Name: %s\n",
        "Father's Name: %s\n",
        "Age: %d\n",
        "\"\"\" % (name, father_name, age)\n",
        "\n",
        "print(student_card)"
      ],
      "metadata": {
        "colab": {
          "base_uri": "https://localhost:8080/"
        },
        "id": "0vrujngz-xPx",
        "outputId": "3ec72c22-27dc-4532-92f8-6de6540cb5b1"
      },
      "execution_count": null,
      "outputs": [
        {
          "output_type": "stream",
          "name": "stdout",
          "text": [
            "\n",
            "Panaveristy Student Card\n",
            "\n",
            "Student Name: Muhammad Idrees\n",
            "Father's Name: Muhammad Saleem\n",
            "Age: 47 \n",
            "\n"
          ]
        }
      ]
    },
    {
      "cell_type": "code",
      "source": [],
      "metadata": {
        "id": "6dbueY-mAXXa"
      },
      "execution_count": null,
      "outputs": []
    }
  ]
}